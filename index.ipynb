{
 "cells": [
  {
   "cell_type": "raw",
   "id": "1e00c4da-1ec9-4402-a28b-6ad4b241b3a8",
   "metadata": {
    "vscode": {
     "languageId": "raw"
    }
   },
   "source": [
    "---\n",
    "title: \"Python y Quarto\"\n",
    "author: \"Mario Camacho\"\n",
    "date-modified: last-modified\n",
    "date-format: \"DD MMMM YYYY\"\n",
    "lang: es\n",
    "---"
   ]
  },
  {
   "cell_type": "raw",
   "id": "b866f8e5",
   "metadata": {
    "vscode": {
     "languageId": "raw"
    }
   },
   "source": [
    "Se ha configurado el diseño del html combiando un fichero yaml e incluyendo código yaml en el notebook. "
   ]
  },
  {
   "cell_type": "markdown",
   "id": "f00b15d2",
   "metadata": {},
   "source": [
    "# Yaml"
   ]
  },
  {
   "cell_type": "markdown",
   "id": "612410e2",
   "metadata": {},
   "source": [
    "El yaml en la cabecera del código contiene:\n",
    "\n",
    "```\n",
    "project:\n",
    "  type: website\n",
    "  output-dir: docs\n",
    "\n",
    "format:\n",
    "  html:\n",
    "    theme: style.css\n",
    "```\n",
    "\n",
    "El cuál no reacciona a la indicación de output-dir y genera el fichero html en el mismo directorio en el que se ejecuta el notebook."
   ]
  },
  {
   "cell_type": "markdown",
   "id": "8776c2d1-722b-4e14-8b78-4b3f50f45bd4",
   "metadata": {},
   "source": [
    "# Polar Axis\n",
    "\n",
    "For a demonstration of a line plot on a polar axis, see @fig-polar."
   ]
  },
  {
   "cell_type": "code",
   "execution_count": null,
   "id": "2d680db0-67dd-43b9-b1c1-6e9df46f342e",
   "metadata": {},
   "outputs": [],
   "source": [
    "#| label: fig-polar\n",
    "#| fig-cap: \"A line plot on a polar axis\"\n",
    "\n",
    "import numpy as np\n",
    "import matplotlib.pyplot as plt\n",
    "\n",
    "r = np.arange(0, 2, 0.01)\n",
    "theta = 2 * np.pi * r\n",
    "fig, ax = plt.subplots(\n",
    "  subplot_kw = {'projection': 'polar'} \n",
    ")\n",
    "ax.plot(theta, r)\n",
    "ax.set_rticks([0.5, 1, 1.5, 2])\n",
    "ax.grid(True)\n",
    "plt.show()"
   ]
  }
 ],
 "metadata": {
  "kernelspec": {
   "display_name": "Python 3",
   "language": "python",
   "name": "python3"
  },
  "language_info": {
   "codemirror_mode": {
    "name": "ipython",
    "version": 3
   },
   "file_extension": ".py",
   "mimetype": "text/x-python",
   "name": "python",
   "nbconvert_exporter": "python",
   "pygments_lexer": "ipython3",
   "version": "3.11.9"
  }
 },
 "nbformat": 4,
 "nbformat_minor": 5
}
