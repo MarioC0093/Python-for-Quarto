{
  "cells": [
    {
      "cell_type": "raw",
      "metadata": {},
      "source": [
        "---\n",
        "title: Quarto output-dir\n",
        "project:\n",
        "  output-dir: ./docs/\n",
        "format:\n",
        "  html:\n",
        "    code-fold: true\n",
        "    theme: css/style.css\n",
        "---"
      ],
      "id": "4e508850"
    },
    {
      "cell_type": "markdown",
      "metadata": {},
      "source": [
        "```\n",
        "```"
      ],
      "id": "04c4ba14"
    }
  ],
  "metadata": {
    "kernelspec": {
      "display_name": "Python 3",
      "language": "python",
      "name": "python3"
    }
  },
  "nbformat": 4,
  "nbformat_minor": 5
}